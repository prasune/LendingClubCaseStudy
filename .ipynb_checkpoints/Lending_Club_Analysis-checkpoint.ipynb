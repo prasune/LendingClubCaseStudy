{
 "cells": [
  {
   "cell_type": "code",
   "execution_count": null,
   "metadata": {
    "id": "Xua6ciG_lTT7"
   },
   "outputs": [],
   "source": [
    "\n",
    "\n",
    "#import libraries\n",
    "import pandas as pd  #Data Manuplation\n",
    "import seaborn as sns # Data Visualization\n",
    "import matplotlib.pyplot as plt #Data Visualization\n",
    "\n"
   ]
  },
  {
   "cell_type": "code",
   "execution_count": null,
   "metadata": {
    "id": "dRvdRxLhml2a"
   },
   "outputs": [],
   "source": [
    "# display all columns\n",
    "pd.set_option(\"display.max_columns\",None)\n",
    "#pd.set_option(\"display.max_rows\",None)"
   ]
  },
  {
   "cell_type": "code",
   "execution_count": null,
   "metadata": {
    "id": "8PtP1p2Tm7ke"
   },
   "outputs": [],
   "source": [
    "#import dataset\n",
    "loan = pd.read_csv(\"loan.csv\")"
   ]
  },
  {
   "cell_type": "markdown",
   "metadata": {
    "id": "Gpd4W-zWekcf"
   },
   "source": [
    "#Data Exploration"
   ]
  },
  {
   "cell_type": "code",
   "execution_count": null,
   "metadata": {
    "colab": {
     "base_uri": "https://localhost:8080/",
     "height": 643
    },
    "id": "igTGA3ylnWbg",
    "outputId": "e5f7b940-c0f5-4f35-ac08-5d94df69c7a4"
   },
   "outputs": [],
   "source": [
    "#top 10 rows\n",
    "loan.head(10)"
   ]
  },
  {
   "cell_type": "code",
   "execution_count": null,
   "metadata": {
    "colab": {
     "base_uri": "https://localhost:8080/",
     "height": 330
    },
    "id": "Yqsgjedborn2",
    "outputId": "bc94d4df-240e-4765-805c-ac2213580647"
   },
   "outputs": [],
   "source": [
    "#show last 5 values\n",
    "loan.tail()"
   ]
  },
  {
   "cell_type": "code",
   "execution_count": null,
   "metadata": {
    "colab": {
     "base_uri": "https://localhost:8080/"
    },
    "id": "NBgbvY1uo3p3",
    "outputId": "4567024a-84f8-4364-d247-4f14901f7ee9"
   },
   "outputs": [],
   "source": [
    "#column list\n",
    "loan.columns"
   ]
  },
  {
   "cell_type": "code",
   "execution_count": null,
   "metadata": {
    "colab": {
     "base_uri": "https://localhost:8080/"
    },
    "id": "hQkTtPNopA19",
    "outputId": "30805e46-3975-42e4-c23b-e4964763d42a"
   },
   "outputs": [],
   "source": [
    "#no. of row and column\n",
    "loan.shape"
   ]
  },
  {
   "cell_type": "code",
   "execution_count": null,
   "metadata": {
    "colab": {
     "base_uri": "https://localhost:8080/"
    },
    "id": "1TZiNMexpmZC",
    "outputId": "3a6a5cb7-b081-4d32-9660-a7f570b9133b"
   },
   "outputs": [],
   "source": [
    "# Deatiled Summary of dataframe\n",
    "loan.info()"
   ]
  },
  {
   "cell_type": "code",
   "execution_count": null,
   "metadata": {
    "colab": {
     "base_uri": "https://localhost:8080/"
    },
    "id": "P-WB5_f-qQV7",
    "outputId": "405d9881-60e5-4a1a-e453-684bd852848b"
   },
   "outputs": [],
   "source": [
    "# missing value -columns\n",
    "round((loan.isnull().sum()/loan.shape[0])*100,2)"
   ]
  },
  {
   "cell_type": "code",
   "execution_count": null,
   "metadata": {
    "colab": {
     "base_uri": "https://localhost:8080/"
    },
    "id": "eY-dbTMlsxFi",
    "outputId": "3fb9d6c2-46af-459f-e53b-a843725cadae"
   },
   "outputs": [],
   "source": [
    "# missing value -rows\n",
    "round((loan.isnull().sum(axis=1)/loan.shape[0])*100,2)"
   ]
  },
  {
   "cell_type": "code",
   "execution_count": null,
   "metadata": {
    "colab": {
     "base_uri": "https://localhost:8080/",
     "height": 300
    },
    "id": "gwjSvyjStSOh",
    "outputId": "23d117cd-fa0b-4bb4-e5f3-85ef102657d4"
   },
   "outputs": [],
   "source": [
    "#statistics represtation of Data\n",
    "loan.describe()"
   ]
  },
  {
   "cell_type": "code",
   "execution_count": null,
   "metadata": {
    "colab": {
     "base_uri": "https://localhost:8080/",
     "height": 423
    },
    "id": "ZgyxrVd3yVhb",
    "outputId": "bd2de669-874e-4cf9-e31e-14c5fcf592ed"
   },
   "outputs": [],
   "source": [
    "#limited columns analsis\n",
    "loan.loc[100:200,['loan_amnt','term','int_rate']]"
   ]
  },
  {
   "cell_type": "code",
   "execution_count": null,
   "metadata": {
    "colab": {
     "base_uri": "https://localhost:8080/",
     "height": 423
    },
    "id": "XgmsTVy6fP6X",
    "outputId": "e9ac3909-d03f-44a0-dc76-4f47135bdf74"
   },
   "outputs": [],
   "source": [
    "loan.loc[100:200,['loan_amnt','term','int_rate']]"
   ]
  },
  {
   "cell_type": "markdown",
   "metadata": {
    "id": "cVgd3JNYztuA"
   },
   "source": [
    "##loc -> label based\n",
    "##iloc -> index based"
   ]
  },
  {
   "cell_type": "code",
   "execution_count": null,
   "metadata": {
    "colab": {
     "base_uri": "https://localhost:8080/",
     "height": 423
    },
    "id": "hfBy8kU6znQN",
    "outputId": "9b492a3a-284a-4d18-9044-b997e67d905a"
   },
   "outputs": [],
   "source": [
    "loan.iloc[100:200,0:5]"
   ]
  },
  {
   "cell_type": "code",
   "execution_count": null,
   "metadata": {
    "colab": {
     "base_uri": "https://localhost:8080/",
     "height": 423
    },
    "id": "oUjs_S8x0Jsy",
    "outputId": "bc46034e-2501-4a50-e80d-35843de511c6"
   },
   "outputs": [],
   "source": [
    "loan.iloc[100:200,[0,2,3]]"
   ]
  },
  {
   "cell_type": "code",
   "execution_count": null,
   "metadata": {
    "colab": {
     "base_uri": "https://localhost:8080/"
    },
    "id": "85Xi7vMN7OVh",
    "outputId": "df491b7b-54e3-4046-865b-ed4fc01c273c"
   },
   "outputs": [],
   "source": [
    "loan['term'].value_counts()"
   ]
  },
  {
   "cell_type": "code",
   "execution_count": null,
   "metadata": {
    "colab": {
     "base_uri": "https://localhost:8080/",
     "height": 434
    },
    "id": "gq6hHB3_W6Ha",
    "outputId": "cd5d1ca0-1376-4cf8-ae73-38114be83b33"
   },
   "outputs": [],
   "source": [
    "loan.nsmallest(5, 'loan_amnt')"
   ]
  },
  {
   "cell_type": "code",
   "execution_count": null,
   "metadata": {
    "id": "vT60aMlvYV5q"
   },
   "outputs": [],
   "source": [
    "loan.nsmallest(5, 'loan_amnt')"
   ]
  },
  {
   "cell_type": "code",
   "execution_count": null,
   "metadata": {
    "colab": {
     "base_uri": "https://localhost:8080/",
     "height": 330
    },
    "id": "3mVOcqE2W6Lq",
    "outputId": "4cb2743c-fdff-404e-9472-3bfee6c7b7dd"
   },
   "outputs": [],
   "source": [
    "loan.nlargest(5, 'loan_amnt')\n"
   ]
  },
  {
   "cell_type": "code",
   "execution_count": null,
   "metadata": {
    "colab": {
     "base_uri": "https://localhost:8080/",
     "height": 738
    },
    "id": "bif2Kia6W6Qh",
    "outputId": "642653f4-f2b0-4953-d563-5b7522777a85"
   },
   "outputs": [],
   "source": [
    "loan.sort_values(by='loan_amnt')"
   ]
  },
  {
   "cell_type": "code",
   "execution_count": null,
   "metadata": {
    "colab": {
     "base_uri": "https://localhost:8080/",
     "height": 143
    },
    "id": "QWRBFnEVW6UF",
    "outputId": "86828266-06c8-4661-c586-1d79ca6589f7"
   },
   "outputs": [],
   "source": [
    "df1 = pd.DataFrame({\"city\": ['A', 'B', 'C'],\n",
    "                   \"day1\": [22, 25, 21],\n",
    "                   'day2':[31, 12, 67],\n",
    "                   'day3': [27, 20, 15],\n",
    "                   'day4': [34, 37, [41, 45, 67, 90, 21]],\n",
    "                   'day5': [23, 54, 36]})\n",
    "df1"
   ]
  },
  {
   "cell_type": "code",
   "execution_count": null,
   "metadata": {
    "colab": {
     "base_uri": "https://localhost:8080/",
     "height": 269
    },
    "id": "82G1btGVW6X4",
    "outputId": "96af7797-be30-427b-f781-11dd69604b26"
   },
   "outputs": [],
   "source": [
    "df1.explode('day4').reset_index(drop=True)"
   ]
  },
  {
   "cell_type": "code",
   "execution_count": null,
   "metadata": {
    "id": "G7AmAXuYW6b0"
   },
   "outputs": [],
   "source": []
  },
  {
   "cell_type": "code",
   "execution_count": null,
   "metadata": {
    "id": "smIAZYm6W6fi"
   },
   "outputs": [],
   "source": []
  },
  {
   "cell_type": "markdown",
   "metadata": {
    "id": "FJm1gB1U4fjz"
   },
   "source": [
    "#Data Cleaning"
   ]
  },
  {
   "cell_type": "code",
   "execution_count": null,
   "metadata": {
    "id": "RGmEfxcQCx_E"
   },
   "outputs": [],
   "source": [
    "unnecessary_columns = [\"id\",\"member_id\"]\n",
    "loan.drop(unnecessary_columns,axis=1,inplace=True)"
   ]
  },
  {
   "cell_type": "code",
   "execution_count": null,
   "metadata": {
    "id": "d9-r6VJKa713"
   },
   "outputs": [],
   "source": [
    "loan.dropna(subset= ['emp_length'],inplace=True)"
   ]
  },
  {
   "cell_type": "code",
   "execution_count": null,
   "metadata": {
    "colab": {
     "base_uri": "https://localhost:8080/"
    },
    "id": "8X4TY_BRbUSU",
    "outputId": "2812d170-3045-464e-e282-827d74a088b9"
   },
   "outputs": [],
   "source": [
    "round((loan.isnull().sum()/loan.shape[0])*100,2)"
   ]
  },
  {
   "cell_type": "code",
   "execution_count": null,
   "metadata": {
    "colab": {
     "base_uri": "https://localhost:8080/"
    },
    "id": "OcyyG-WLEKPx",
    "outputId": "4491316d-dc55-4ab2-f421-4447554cc0f7"
   },
   "outputs": [],
   "source": [
    "loan[\"int_rate\"]"
   ]
  },
  {
   "cell_type": "code",
   "execution_count": null,
   "metadata": {
    "id": "y95-OJxq0adb"
   },
   "outputs": [],
   "source": [
    "#removing % from in_rate column\n",
    "loan[\"int_rate\"] = loan['int_rate'].apply(lambda x: float(x.split(\"%\")[0]))"
   ]
  },
  {
   "cell_type": "code",
   "execution_count": null,
   "metadata": {
    "colab": {
     "base_uri": "https://localhost:8080/"
    },
    "id": "kUZJgtB4E178",
    "outputId": "22df2ade-ce64-49bb-f3b4-d3af61a5671a"
   },
   "outputs": [],
   "source": [
    "loan[\"int_rate\"]"
   ]
  },
  {
   "cell_type": "code",
   "execution_count": null,
   "metadata": {
    "id": "9FT0tIJ081rI"
   },
   "outputs": [],
   "source": [
    "loan['emp_length'] = loan['emp_length'].astype(\"str\")\n",
    "loan['emp_length'] = loan['emp_length'].apply(lambda x: x.replace(\"years\",\"\"))\n",
    "loan['emp_length'] = loan['emp_length'].apply(lambda x: x.replace(\"year\",\"\"))\n",
    "loan['emp_length'] = loan['emp_length'].apply(lambda x: x.replace(\"10+\",\"11\"))\n",
    "loan['emp_length'] = loan['emp_length'].apply(lambda x: x.replace(\"< 1\",\"0\"))"
   ]
  },
  {
   "cell_type": "code",
   "execution_count": null,
   "metadata": {
    "colab": {
     "base_uri": "https://localhost:8080/"
    },
    "id": "AhRcThyn9X3M",
    "outputId": "f1729711-90a6-48d6-f9bc-658b6505ca3f"
   },
   "outputs": [],
   "source": [
    "loan['emp_length']"
   ]
  },
  {
   "cell_type": "code",
   "execution_count": null,
   "metadata": {
    "id": "5qz_6-Qx8V5x"
   },
   "outputs": [],
   "source": [
    "#removing missing values from 'emp_length' column\n",
    "loan = loan[~(loan['emp_length']==\"nan\")]"
   ]
  },
  {
   "cell_type": "code",
   "execution_count": null,
   "metadata": {
    "colab": {
     "base_uri": "https://localhost:8080/"
    },
    "id": "wF9u46G5-p5-",
    "outputId": "a6b79777-cda9-403a-8324-07e56e49b4d2"
   },
   "outputs": [],
   "source": [
    "loan['emp_length'].value_counts()"
   ]
  },
  {
   "cell_type": "code",
   "execution_count": null,
   "metadata": {
    "id": "p-QNlPN2_Oci"
   },
   "outputs": [],
   "source": [
    "loan['emp_length']=loan['emp_length'].astype('int')"
   ]
  },
  {
   "cell_type": "code",
   "execution_count": null,
   "metadata": {
    "colab": {
     "base_uri": "https://localhost:8080/"
    },
    "id": "YEiLuV--Dsio",
    "outputId": "b3ec82f4-fa48-48ff-c655-17a3fc5aa9a9"
   },
   "outputs": [],
   "source": [
    "loan[\"annual_inc\"].describe()"
   ]
  },
  {
   "cell_type": "code",
   "execution_count": null,
   "metadata": {
    "colab": {
     "base_uri": "https://localhost:8080/"
    },
    "id": "qBzB48OLEv7f",
    "outputId": "ef8056ae-64db-4229-c631-27fdeacae9a0"
   },
   "outputs": [],
   "source": [
    "loan[\"annual_inc\"]"
   ]
  },
  {
   "cell_type": "markdown",
   "metadata": {
    "id": "RcZef63aH-R0"
   },
   "source": [
    "##Binning: convert continuous variable to categorical varaible"
   ]
  },
  {
   "cell_type": "code",
   "execution_count": null,
   "metadata": {
    "id": "einR8eo-FT86"
   },
   "outputs": [],
   "source": [
    "#low-income: 0-50000\n",
    "#mid-income: 50001-100000\n",
    "#high-income: 100001>\n",
    "def annul_inc_conversion(x):\n",
    "  if x<= 50000:\n",
    "    return \"low income\"\n",
    "  elif x> 50000 and x <= 100000:\n",
    "    return \"medium income\"\n",
    "  else:\n",
    "    return \"high income\""
   ]
  },
  {
   "cell_type": "code",
   "execution_count": null,
   "metadata": {
    "id": "OkBFcuP2Foi9"
   },
   "outputs": [],
   "source": [
    "loan[\"annual_inc\"] = loan[\"annual_inc\"].apply(lambda x:annul_inc_conversion(x))"
   ]
  },
  {
   "cell_type": "code",
   "execution_count": null,
   "metadata": {
    "colab": {
     "base_uri": "https://localhost:8080/"
    },
    "id": "_2YayG4OGLIE",
    "outputId": "97e133eb-9fb8-47d4-9762-f32747ab913c"
   },
   "outputs": [],
   "source": [
    "loan[\"annual_inc\"]"
   ]
  },
  {
   "cell_type": "code",
   "execution_count": null,
   "metadata": {
    "id": "fy9N4mfR6xGP"
   },
   "outputs": [],
   "source": []
  },
  {
   "cell_type": "code",
   "execution_count": null,
   "metadata": {
    "id": "bBY2Jt3FHFw0"
   },
   "outputs": [],
   "source": [
    "#low-intersrt: 7.5\n",
    "#mid-interst: 7.6-13\n",
    "#high-insterst: 13+\n",
    "def interst_rate_conversion(x):\n",
    "  if x<= 7.5:\n",
    "    return \"low interst rate\"\n",
    "  elif x>7.5  and x <= 13.0:\n",
    "    return \"medium interst rate\"\n",
    "  else:\n",
    "    return \"high interst rate\""
   ]
  },
  {
   "cell_type": "code",
   "execution_count": null,
   "metadata": {
    "id": "IYNvbI3vGWK9"
   },
   "outputs": [],
   "source": [
    "loan[\"int_rate\"]= loan[\"int_rate\"].apply(lambda x:interst_rate_conversion(x) )"
   ]
  },
  {
   "cell_type": "code",
   "execution_count": null,
   "metadata": {
    "colab": {
     "base_uri": "https://localhost:8080/"
    },
    "id": "KO1M51qrfx5h",
    "outputId": "4ec4dba2-631c-4635-9489-b491038cc017"
   },
   "outputs": [],
   "source": [
    "loan[\"int_rate\"]"
   ]
  },
  {
   "cell_type": "markdown",
   "metadata": {
    "id": "8bqWiD9rfzAR"
   },
   "source": [
    "#Data Analysis"
   ]
  },
  {
   "cell_type": "code",
   "execution_count": null,
   "metadata": {
    "colab": {
     "base_uri": "https://localhost:8080/"
    },
    "id": "-wy564BKH4r3",
    "outputId": "162e8b62-d43a-4a4c-b14c-909d6e278df3"
   },
   "outputs": [],
   "source": [
    "loan['loan_status'].value_counts()"
   ]
  },
  {
   "cell_type": "code",
   "execution_count": null,
   "metadata": {
    "id": "wyJXB8YkIm8g"
   },
   "outputs": [],
   "source": [
    "loan_final = loan[~(loan[\"loan_status\"] == \"Current\")]"
   ]
  },
  {
   "cell_type": "code",
   "execution_count": null,
   "metadata": {
    "colab": {
     "base_uri": "https://localhost:8080/",
     "height": 451
    },
    "id": "qtEsaZaiI3Nb",
    "outputId": "c214173d-019d-4082-fffb-7a46f0442f46"
   },
   "outputs": [],
   "source": [
    "loan_final.head()"
   ]
  },
  {
   "cell_type": "code",
   "execution_count": null,
   "metadata": {
    "id": "ZQ6MnebHKsre"
   },
   "outputs": [],
   "source": [
    "#Task:\n",
    "#1 Binning loan_amnt,emp_length\n",
    "#2 remove funced_amnt_inv,installment,emp_title, title, revol_bal\t,revol_util\n",
    "#3 tenure of loan in year\n"
   ]
  },
  {
   "cell_type": "code",
   "execution_count": null,
   "metadata": {
    "id": "2kmNBe1Gdm7r"
   },
   "outputs": [],
   "source": [
    "loan_final.head()"
   ]
  },
  {
   "cell_type": "markdown",
   "metadata": {
    "id": "UPyLI_rim8zu"
   },
   "source": [
    "#Univariate Analysis\n",
    "##taking one column at atime"
   ]
  },
  {
   "cell_type": "code",
   "execution_count": null,
   "metadata": {
    "id": "ogoMvK_zlwA5"
   },
   "outputs": [],
   "source": [
    "def cat_analysis(x,):\n",
    "  print(loan_final[str(x)].value_counts())"
   ]
  },
  {
   "cell_type": "code",
   "execution_count": null,
   "metadata": {
    "colab": {
     "base_uri": "https://localhost:8080/"
    },
    "id": "YtUn8RQeljvM",
    "outputId": "fc6605ba-67b2-4657-9824-6ac50244e94b"
   },
   "outputs": [],
   "source": [
    "cat_analysis('loan_status')"
   ]
  },
  {
   "cell_type": "code",
   "execution_count": null,
   "metadata": {
    "colab": {
     "base_uri": "https://localhost:8080/"
    },
    "id": "QdfPkq_hmb6q",
    "outputId": "3fe40d0c-4147-4a68-8116-af6942125d80"
   },
   "outputs": [],
   "source": [
    "cat_analysis('int_rate')"
   ]
  },
  {
   "cell_type": "code",
   "execution_count": null,
   "metadata": {
    "colab": {
     "base_uri": "https://localhost:8080/"
    },
    "id": "dnRvGxnpmiVZ",
    "outputId": "ca2ee4bd-d524-4467-bea2-d522a572cf02"
   },
   "outputs": [],
   "source": [
    "cat_analysis('purpose')"
   ]
  },
  {
   "cell_type": "code",
   "execution_count": null,
   "metadata": {
    "colab": {
     "base_uri": "https://localhost:8080/"
    },
    "id": "6vhHBMoVnCS_",
    "outputId": "68387e2f-214d-467f-e250-9d3cb2995d24"
   },
   "outputs": [],
   "source": [
    "loan_final['loan_amnt'].max()"
   ]
  },
  {
   "cell_type": "code",
   "execution_count": null,
   "metadata": {
    "colab": {
     "base_uri": "https://localhost:8080/"
    },
    "id": "51gf0_80nKQ-",
    "outputId": "d1bd953f-af04-4231-ab8b-93266bbad472"
   },
   "outputs": [],
   "source": [
    "loan_final['loan_amnt'].min()"
   ]
  },
  {
   "cell_type": "code",
   "execution_count": null,
   "metadata": {
    "colab": {
     "base_uri": "https://localhost:8080/"
    },
    "id": "ByEFOnLUnNsY",
    "outputId": "5b159e3d-14d6-4fa6-b6fb-5a597a8c5f84"
   },
   "outputs": [],
   "source": [
    "loan_final['loan_amnt'].mean()"
   ]
  },
  {
   "cell_type": "markdown",
   "metadata": {
    "id": "dB50XkRHniQm"
   },
   "source": [
    "#Bi-Variate Analysis"
   ]
  },
  {
   "cell_type": "code",
   "execution_count": null,
   "metadata": {
    "colab": {
     "base_uri": "https://localhost:8080/",
     "height": 237
    },
    "id": "siz5sWiEnbfV",
    "outputId": "0267df14-168d-49b6-840e-dd9e8da58d05"
   },
   "outputs": [],
   "source": [
    "loan_final.groupby(['loan_status','int_rate']).size().reset_index(name='Count')\n"
   ]
  },
  {
   "cell_type": "markdown",
   "metadata": {
    "id": "1rzCF0RIoW8c"
   },
   "source": [
    "##Recommendation: application who is ready to take loan at high interst rate, do more investigation about aplicant"
   ]
  },
  {
   "cell_type": "code",
   "execution_count": null,
   "metadata": {
    "colab": {
     "base_uri": "https://localhost:8080/",
     "height": 238
    },
    "id": "MD01VeLOon13",
    "outputId": "90a8f2a7-aafe-4838-9b4e-0cf722800c2c"
   },
   "outputs": [],
   "source": [
    "loan_final.groupby(['loan_status','annual_inc']).size().reset_index(name='Count')"
   ]
  },
  {
   "cell_type": "markdown",
   "metadata": {
    "id": "IZZMuaZJpju_"
   },
   "source": [
    "#Recommendation:"
   ]
  },
  {
   "cell_type": "code",
   "execution_count": null,
   "metadata": {
    "colab": {
     "base_uri": "https://localhost:8080/"
    },
    "id": "g4a6Nq2OpcJC",
    "outputId": "c5c1c400-dc86-496c-9d82-ff82edbdc97c"
   },
   "outputs": [],
   "source": [
    "loan_final.groupby(['loan_status','purpose']).size()"
   ]
  },
  {
   "cell_type": "markdown",
   "metadata": {
    "id": "cqyfMcy9rPG4"
   },
   "source": [
    "#Multi-Variate Analysis"
   ]
  },
  {
   "cell_type": "code",
   "execution_count": null,
   "metadata": {
    "colab": {
     "base_uri": "https://localhost:8080/",
     "height": 614
    },
    "id": "eVllANp8q74M",
    "outputId": "a06b5957-9f66-4ffd-f171-1340e93e3fc6"
   },
   "outputs": [],
   "source": [
    "loan_final.groupby(['loan_status','annual_inc','int_rate']).size().reset_index(name='Count').sort_values('Count',ascending=False)"
   ]
  },
  {
   "cell_type": "code",
   "execution_count": null,
   "metadata": {
    "colab": {
     "base_uri": "https://localhost:8080/"
    },
    "id": "rVivNp4QtSHC",
    "outputId": "dabd8c25-310b-4b0a-d8ac-9a415a77b914"
   },
   "outputs": [],
   "source": [
    "loan_final.groupby(['loan_status','annual_inc','int_rate']).size()"
   ]
  },
  {
   "cell_type": "code",
   "execution_count": null,
   "metadata": {
    "colab": {
     "base_uri": "https://localhost:8080/",
     "height": 484
    },
    "id": "Pf0bdhA7d_Iy",
    "outputId": "1f724fc0-b746-4855-d3f4-a007f78ddd51"
   },
   "outputs": [],
   "source": [
    "#other\n",
    "import numpy as np\n",
    "loan.groupby(['loan_status', 'verification_status'])['loan_amnt', 'annual_inc'].agg([np.mean, np.median])"
   ]
  },
  {
   "cell_type": "code",
   "execution_count": null,
   "metadata": {
    "id": "hIjI4QWfemT_"
   },
   "outputs": [],
   "source": []
  },
  {
   "cell_type": "markdown",
   "metadata": {
    "id": "W2T5_XcDsud5"
   },
   "source": [
    "#Data Visaulaization"
   ]
  },
  {
   "cell_type": "code",
   "execution_count": null,
   "metadata": {
    "colab": {
     "base_uri": "https://localhost:8080/",
     "height": 852
    },
    "id": "NeGxF49z2j-c",
    "outputId": "8b789e09-6fef-41ab-bbcb-7ce6209ecf10"
   },
   "outputs": [],
   "source": [
    "loan_final"
   ]
  },
  {
   "cell_type": "code",
   "execution_count": null,
   "metadata": {
    "colab": {
     "base_uri": "https://localhost:8080/",
     "height": 658
    },
    "id": "ZfZuDEin275E",
    "outputId": "f3b3f418-a86c-4458-deb2-676cc66a575d"
   },
   "outputs": [],
   "source": [
    "#univariate:\n",
    "#continuous\n",
    "sns.distplot(loan_final['loan_amnt'])"
   ]
  },
  {
   "cell_type": "code",
   "execution_count": null,
   "metadata": {
    "colab": {
     "base_uri": "https://localhost:8080/",
     "height": 657
    },
    "id": "lMHjb60f2kDw",
    "outputId": "b5ec6ed6-69f3-4a5e-afae-fc90ae41d839"
   },
   "outputs": [],
   "source": [
    "sns.distplot(loan_final['installment'])"
   ]
  },
  {
   "cell_type": "code",
   "execution_count": null,
   "metadata": {
    "colab": {
     "base_uri": "https://localhost:8080/",
     "height": 428
    },
    "id": "rS6oyUwD398r",
    "outputId": "e81268da-2564-474d-fd3c-60569fc3b97d"
   },
   "outputs": [],
   "source": [
    "sns.boxplot(y=loan_final['installment'])"
   ]
  },
  {
   "cell_type": "code",
   "execution_count": null,
   "metadata": {
    "colab": {
     "base_uri": "https://localhost:8080/",
     "height": 428
    },
    "id": "GecruYj24NZc",
    "outputId": "db081124-3887-4263-c5df-a9a96a281ce6"
   },
   "outputs": [],
   "source": [
    "sns.boxplot(y=loan_final['loan_amnt'])"
   ]
  },
  {
   "cell_type": "code",
   "execution_count": null,
   "metadata": {
    "colab": {
     "base_uri": "https://localhost:8080/",
     "height": 297
    },
    "id": "903m9ytr2kHu",
    "outputId": "07b38d69-3c54-423f-925a-5960919dc6d9"
   },
   "outputs": [],
   "source": [
    "sns.histplot(loan_final['loan_amnt'])"
   ]
  },
  {
   "cell_type": "code",
   "execution_count": null,
   "metadata": {
    "id": "JsNjRY-y4ts2"
   },
   "outputs": [],
   "source": [
    "def univarite_categorical_analysis(column):\n",
    "  sns.countplot(x=loan_final[str(column)])"
   ]
  },
  {
   "cell_type": "code",
   "execution_count": null,
   "metadata": {
    "colab": {
     "base_uri": "https://localhost:8080/",
     "height": 450
    },
    "id": "Vq1txDOR4uQY",
    "outputId": "22bab064-d051-4fc4-cc03-b2285091ae0d"
   },
   "outputs": [],
   "source": [
    "univarite_categorical_analysis(\"loan_status\")"
   ]
  },
  {
   "cell_type": "code",
   "execution_count": null,
   "metadata": {
    "colab": {
     "base_uri": "https://localhost:8080/",
     "height": 449
    },
    "id": "JNepR3v75XnF",
    "outputId": "874cf05f-6db9-4e2f-b394-c2aaeda70fea"
   },
   "outputs": [],
   "source": [
    "univarite_categorical_analysis(\"term\")"
   ]
  },
  {
   "cell_type": "code",
   "execution_count": null,
   "metadata": {
    "colab": {
     "base_uri": "https://localhost:8080/",
     "height": 450
    },
    "id": "lPq7mDHf5k4l",
    "outputId": "042e17c4-cd6d-48ab-8952-a4f81dc37b5f"
   },
   "outputs": [],
   "source": [
    "univarite_categorical_analysis(\"int_rate\")"
   ]
  },
  {
   "cell_type": "code",
   "execution_count": null,
   "metadata": {
    "colab": {
     "base_uri": "https://localhost:8080/",
     "height": 450
    },
    "id": "bKRkhwWg51P8",
    "outputId": "86627291-893b-4c3d-8005-b53bf66fc2ee"
   },
   "outputs": [],
   "source": [
    "univarite_categorical_analysis(\"verification_status\")"
   ]
  },
  {
   "cell_type": "code",
   "execution_count": null,
   "metadata": {
    "colab": {
     "base_uri": "https://localhost:8080/",
     "height": 648
    },
    "id": "Bbh0EEmV6Kzy",
    "outputId": "d2592dec-821b-4b63-ac7d-97449523e72b"
   },
   "outputs": [],
   "source": [
    "import matplotlib.pyplot as plt\n",
    "plt.figure(figsize=(20,10))\n",
    "univarite_categorical_analysis(\"purpose\")\n",
    "plt.show()\n"
   ]
  },
  {
   "cell_type": "code",
   "execution_count": null,
   "metadata": {
    "colab": {
     "base_uri": "https://localhost:8080/",
     "height": 297
    },
    "id": "bKuFmNK075ay",
    "outputId": "00053114-0650-4969-e87f-0ae55db2440e"
   },
   "outputs": [],
   "source": [
    "#BI-variate analysis\n",
    "#both are continuous\n",
    "sns.scatterplot(data=loan_final,x=\"loan_amnt\",y=\"installment\")"
   ]
  },
  {
   "cell_type": "code",
   "execution_count": null,
   "metadata": {
    "colab": {
     "base_uri": "https://localhost:8080/",
     "height": 467
    },
    "id": "G5Den6_T8ixy",
    "outputId": "2001dfab-55a3-454d-eb6d-514869086899"
   },
   "outputs": [],
   "source": [
    "#both are categorical\n",
    "sns.countplot(data=loan_final,x=\"loan_status\",hue=\"term\")"
   ]
  },
  {
   "cell_type": "code",
   "execution_count": null,
   "metadata": {
    "colab": {
     "base_uri": "https://localhost:8080/",
     "height": 467
    },
    "id": "-DRn7LnD9CZc",
    "outputId": "1f167a17-d532-435b-e24e-af9c3b69e076"
   },
   "outputs": [],
   "source": [
    "sns.countplot(data=loan_final,x=\"loan_status\",hue=\"int_rate\")"
   ]
  },
  {
   "cell_type": "code",
   "execution_count": null,
   "metadata": {
    "colab": {
     "base_uri": "https://localhost:8080/",
     "height": 467
    },
    "id": "BCi3bxv79TnA",
    "outputId": "c61d8380-3fa9-43aa-984e-df0bff614668"
   },
   "outputs": [],
   "source": [
    "sns.countplot(data=loan_final,x=\"loan_status\",hue=\"annual_inc\")"
   ]
  },
  {
   "cell_type": "code",
   "execution_count": null,
   "metadata": {
    "colab": {
     "base_uri": "https://localhost:8080/",
     "height": 467
    },
    "id": "wba-qv5D9sdb",
    "outputId": "8e01ba08-dd79-41b7-ec34-619f9fa24b89"
   },
   "outputs": [],
   "source": [
    "sns.countplot(data=loan_final,x=\"loan_status\",hue=\"term\")"
   ]
  },
  {
   "cell_type": "code",
   "execution_count": null,
   "metadata": {
    "colab": {
     "base_uri": "https://localhost:8080/"
    },
    "id": "XQJ4nhH08Jgu",
    "outputId": "9a231361-f2ec-456f-b6ee-b5b2c6e3dfab"
   },
   "outputs": [],
   "source": [
    "loan_final.columns"
   ]
  },
  {
   "cell_type": "code",
   "execution_count": null,
   "metadata": {
    "colab": {
     "base_uri": "https://localhost:8080/",
     "height": 613
    },
    "id": "SMeFRQFm9-1D",
    "outputId": "8a36a1c7-231f-474e-b80b-80335c719815"
   },
   "outputs": [],
   "source": [
    "#multi-variate analysis\n",
    "sns.heatmap(loan_final.corr(),annot=True)"
   ]
  },
  {
   "cell_type": "code",
   "execution_count": null,
   "metadata": {
    "colab": {
     "base_uri": "https://localhost:8080/",
     "height": 466
    },
    "id": "TdzF6mdP-oC-",
    "outputId": "fd832a20-1be5-4b3d-9b31-f23e36a513ea"
   },
   "outputs": [],
   "source": [
    "sns.boxplot(data=loan_final,y=\"loan_amnt\",x='term',hue='loan_status')"
   ]
  },
  {
   "cell_type": "code",
   "execution_count": null,
   "metadata": {
    "id": "IzZIrDno9-9v"
   },
   "outputs": [],
   "source": []
  },
  {
   "cell_type": "code",
   "execution_count": null,
   "metadata": {
    "id": "TRKnFPc-9_C7"
   },
   "outputs": [],
   "source": []
  },
  {
   "cell_type": "code",
   "execution_count": null,
   "metadata": {
    "id": "klY3gwbT9_HN"
   },
   "outputs": [],
   "source": []
  },
  {
   "cell_type": "markdown",
   "metadata": {
    "id": "g7EOWvrXt3NE"
   },
   "source": [
    "#univariate Analysis"
   ]
  },
  {
   "cell_type": "code",
   "execution_count": null,
   "metadata": {
    "id": "5NqmRU2LtpsY"
   },
   "outputs": [],
   "source": [
    "sns.countplot(loan_final['loan_status'])"
   ]
  },
  {
   "cell_type": "code",
   "execution_count": null,
   "metadata": {
    "id": "HpvhG7zsuWjd"
   },
   "outputs": [],
   "source": [
    "def cat_data_visualization(x):\n",
    "  sns.countplot(loan_final[str(x)])"
   ]
  },
  {
   "cell_type": "code",
   "execution_count": null,
   "metadata": {
    "id": "kGRJAaf4stfN"
   },
   "outputs": [],
   "source": [
    "cat_data_visualization('int_rate')"
   ]
  },
  {
   "cell_type": "code",
   "execution_count": null,
   "metadata": {
    "id": "_9u67UNkup3r"
   },
   "outputs": [],
   "source": [
    "plt.figure(figsize=(20,15))\n",
    "cat_data_visualization('purpose')\n",
    "plt.show()"
   ]
  },
  {
   "cell_type": "code",
   "execution_count": null,
   "metadata": {
    "id": "D0EnZIXdvIiX"
   },
   "outputs": [],
   "source": [
    "cat_data_visualization(\"annual_inc\")"
   ]
  },
  {
   "cell_type": "code",
   "execution_count": null,
   "metadata": {
    "id": "e4KMGLE9129t"
   },
   "outputs": [],
   "source": [
    "cat_data_visualization('home_ownership')"
   ]
  },
  {
   "cell_type": "code",
   "execution_count": null,
   "metadata": {
    "id": "KUN1LzmJvcKE"
   },
   "outputs": [],
   "source": [
    "cat_data_visualization(\"term\")"
   ]
  },
  {
   "cell_type": "code",
   "execution_count": null,
   "metadata": {
    "id": "fSw7q3vJvg-u"
   },
   "outputs": [],
   "source": [
    "sns.histplot(x='loan_amnt',data=loan_final)"
   ]
  },
  {
   "cell_type": "code",
   "execution_count": null,
   "metadata": {
    "id": "EIgmJxxKwcz_"
   },
   "outputs": [],
   "source": [
    "sns.distplot(loan_final['loan_amnt'])"
   ]
  },
  {
   "cell_type": "code",
   "execution_count": null,
   "metadata": {
    "id": "MKl3xQrtxHpN"
   },
   "outputs": [],
   "source": [
    "sns.boxplot(y= loan_final['loan_amnt'])"
   ]
  },
  {
   "cell_type": "markdown",
   "metadata": {
    "id": "L33nVRptzliG"
   },
   "source": [
    "# Multi-Variate Analysis"
   ]
  },
  {
   "cell_type": "code",
   "execution_count": null,
   "metadata": {
    "id": "XUBSOiKyxfHM"
   },
   "outputs": [],
   "source": [
    "sns.boxplot(x='int_rate', y= 'loan_amnt', hue= 'loan_status',data= loan_final)"
   ]
  },
  {
   "cell_type": "code",
   "execution_count": null,
   "metadata": {
    "id": "IzkpybKZzf2z"
   },
   "outputs": [],
   "source": [
    "sns.countplot( x='int_rate',hue='loan_status', data=loan_final)"
   ]
  },
  {
   "cell_type": "code",
   "execution_count": null,
   "metadata": {
    "id": "GNbcccrM2Fnp"
   },
   "outputs": [],
   "source": [
    "sns.countplot( x='home_ownership',hue='loan_status', data=loan_final)"
   ]
  },
  {
   "cell_type": "code",
   "execution_count": null,
   "metadata": {
    "id": "r80Wg3My0y8J"
   },
   "outputs": [],
   "source": [
    "loan_final.groupby(['loan_status','int_rate']).size().unstack().plot(kind='bar',stacked=True)"
   ]
  },
  {
   "cell_type": "code",
   "execution_count": null,
   "metadata": {
    "id": "aK0yvndy1Xtl"
   },
   "outputs": [],
   "source": [
    "loan_final.groupby(['loan_status','term']).size().unstack().plot(kind='bar',stacked=True)"
   ]
  },
  {
   "cell_type": "code",
   "execution_count": null,
   "metadata": {
    "id": "dPnB_pzv1gYg"
   },
   "outputs": [],
   "source": [
    "loan_final.groupby(['loan_status','home_ownership']).size().unstack().plot(kind='bar',stacked=True)"
   ]
  },
  {
   "cell_type": "code",
   "execution_count": null,
   "metadata": {
    "id": "-tqOkPlj10_y"
   },
   "outputs": [],
   "source": []
  },
  {
   "cell_type": "code",
   "execution_count": null,
   "metadata": {
    "id": "pBnVKQ_S1pPS"
   },
   "outputs": [],
   "source": [
    "loan_final.columns"
   ]
  },
  {
   "cell_type": "code",
   "execution_count": null,
   "metadata": {
    "id": "0lqi_joG4Cl8"
   },
   "outputs": [],
   "source": [
    "loan_final['issue_d']"
   ]
  }
 ],
 "metadata": {
  "colab": {
   "provenance": []
  },
  "kernelspec": {
   "display_name": "Python 3 (ipykernel)",
   "language": "python",
   "name": "python3"
  },
  "language_info": {
   "codemirror_mode": {
    "name": "ipython",
    "version": 3
   },
   "file_extension": ".py",
   "mimetype": "text/x-python",
   "name": "python",
   "nbconvert_exporter": "python",
   "pygments_lexer": "ipython3",
   "version": "3.11.5"
  }
 },
 "nbformat": 4,
 "nbformat_minor": 1
}
